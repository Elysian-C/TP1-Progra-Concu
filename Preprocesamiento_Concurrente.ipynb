{
  "nbformat": 4,
  "nbformat_minor": 0,
  "metadata": {
    "colab": {
      "provenance": []
    },
    "kernelspec": {
      "name": "python3",
      "display_name": "Python 3"
    },
    "language_info": {
      "name": "python"
    }
  },
  "cells": [
    {
      "cell_type": "code",
      "execution_count": null,
      "metadata": {
        "id": "6vVb7KrU1SvX"
      },
      "outputs": [],
      "source": [
        "import pandas as pd\n",
        "import numpy as np"
      ]
    },
    {
      "cell_type": "code",
      "source": [
        "df = pd.read_csv('heart_2020_cleaned.csv')"
      ],
      "metadata": {
        "id": "NiiVW_zx1cAH"
      },
      "execution_count": null,
      "outputs": []
    },
    {
      "cell_type": "code",
      "source": [
        "df.info()"
      ],
      "metadata": {
        "colab": {
          "base_uri": "https://localhost:8080/"
        },
        "id": "8O2KsoVQ1iqt",
        "outputId": "b4b6214f-456d-4436-f21e-c8dc6efb8373"
      },
      "execution_count": null,
      "outputs": [
        {
          "output_type": "stream",
          "name": "stdout",
          "text": [
            "<class 'pandas.core.frame.DataFrame'>\n",
            "RangeIndex: 319795 entries, 0 to 319794\n",
            "Data columns (total 18 columns):\n",
            " #   Column            Non-Null Count   Dtype  \n",
            "---  ------            --------------   -----  \n",
            " 0   HeartDisease      319795 non-null  object \n",
            " 1   BMI               319795 non-null  float64\n",
            " 2   Smoking           319795 non-null  object \n",
            " 3   AlcoholDrinking   319795 non-null  object \n",
            " 4   Stroke            319795 non-null  object \n",
            " 5   PhysicalHealth    319795 non-null  float64\n",
            " 6   MentalHealth      319795 non-null  float64\n",
            " 7   DiffWalking       319795 non-null  object \n",
            " 8   Sex               319795 non-null  object \n",
            " 9   AgeCategory       319795 non-null  object \n",
            " 10  Race              319795 non-null  object \n",
            " 11  Diabetic          319795 non-null  object \n",
            " 12  PhysicalActivity  319795 non-null  object \n",
            " 13  GenHealth         319795 non-null  object \n",
            " 14  SleepTime         319795 non-null  float64\n",
            " 15  Asthma            319795 non-null  object \n",
            " 16  KidneyDisease     319795 non-null  object \n",
            " 17  SkinCancer        319795 non-null  object \n",
            "dtypes: float64(4), object(14)\n",
            "memory usage: 43.9+ MB\n"
          ]
        }
      ]
    },
    {
      "cell_type": "code",
      "source": [
        "df = df.drop('Race', axis=1)\n",
        "cols_bool = [\"HeartDisease\", \"Smoking\", \"AlcoholDrinking\",\"Stroke\",\"DiffWalking\",\"PhysicalActivity\",\"Asthma\",\"KidneyDisease\",\"SkinCancer\"]\n",
        "\n",
        "df[cols_bool] = df[cols_bool].replace({'Yes': 1, 'No': 0})\n",
        "df[\"Sex\"] = df[\"Sex\"].replace({'Male': 1, 'Female': 0})\n",
        "df[\"Diabetic\"] = df[\"Diabetic\"].map({\n",
        "    \"Yes\": 1,\n",
        "    \"No\": 0,\n",
        "    \"No, borderline diabetes\": 0,\n",
        "    \"Yes (during pregnancy)\": 1,\n",
        "})\n",
        "df[\"AgeCategory\"] = df[\"AgeCategory\"].map(\n",
        "    {\n",
        "    '18-24': 0,\n",
        "    '25-29': 1,\n",
        "    '30-34': 2,\n",
        "    '35-39': 3,\n",
        "    '40-44': 4,\n",
        "    '45-49': 5,\n",
        "    '50-54': 6,\n",
        "    '55-59': 7,\n",
        "    '60-64': 8,\n",
        "    '65-69': 9,\n",
        "    '70-74': 10,\n",
        "    '75-79': 11,\n",
        "    '80 or older': 12\n",
        "    }\n",
        ")\n",
        "df[\"GenHealth\"] = df[\"GenHealth\"].map(\n",
        "    {\n",
        "    \"Poor\": 0,\n",
        "    \"Fair\": 1,\n",
        "    \"Good\": 2,\n",
        "    \"Very good\": 3,\n",
        "    \"Excellent\": 4\n",
        "    }\n",
        ")"
      ],
      "metadata": {
        "colab": {
          "base_uri": "https://localhost:8080/"
        },
        "id": "PfmGvz-41jpd",
        "outputId": "14749302-eff9-4989-8ffa-b12ccd9598ed"
      },
      "execution_count": null,
      "outputs": [
        {
          "output_type": "stream",
          "name": "stderr",
          "text": [
            "<ipython-input-26-e56100205d3d>:4: FutureWarning: Downcasting behavior in `replace` is deprecated and will be removed in a future version. To retain the old behavior, explicitly call `result.infer_objects(copy=False)`. To opt-in to the future behavior, set `pd.set_option('future.no_silent_downcasting', True)`\n",
            "  df[cols_bool] = df[cols_bool].replace({'Yes': 1, 'No': 0})\n",
            "<ipython-input-26-e56100205d3d>:5: FutureWarning: Downcasting behavior in `replace` is deprecated and will be removed in a future version. To retain the old behavior, explicitly call `result.infer_objects(copy=False)`. To opt-in to the future behavior, set `pd.set_option('future.no_silent_downcasting', True)`\n",
            "  df[\"Sex\"] = df[\"Sex\"].replace({'Male': 1, 'Female': 0})\n"
          ]
        }
      ]
    },
    {
      "cell_type": "code",
      "source": [
        "df.info()"
      ],
      "metadata": {
        "colab": {
          "base_uri": "https://localhost:8080/"
        },
        "id": "FHzDBHSM1nBV",
        "outputId": "1dca7d1a-0ed2-41b2-ae57-17d58d7d8a7a"
      },
      "execution_count": null,
      "outputs": [
        {
          "output_type": "stream",
          "name": "stdout",
          "text": [
            "<class 'pandas.core.frame.DataFrame'>\n",
            "RangeIndex: 319795 entries, 0 to 319794\n",
            "Data columns (total 17 columns):\n",
            " #   Column            Non-Null Count   Dtype  \n",
            "---  ------            --------------   -----  \n",
            " 0   HeartDisease      319795 non-null  int64  \n",
            " 1   BMI               319795 non-null  float64\n",
            " 2   Smoking           319795 non-null  int64  \n",
            " 3   AlcoholDrinking   319795 non-null  int64  \n",
            " 4   Stroke            319795 non-null  int64  \n",
            " 5   PhysicalHealth    319795 non-null  float64\n",
            " 6   MentalHealth      319795 non-null  float64\n",
            " 7   DiffWalking       319795 non-null  int64  \n",
            " 8   Sex               319795 non-null  int64  \n",
            " 9   AgeCategory       319795 non-null  int64  \n",
            " 10  Diabetic          319795 non-null  int64  \n",
            " 11  PhysicalActivity  319795 non-null  int64  \n",
            " 12  GenHealth         319795 non-null  int64  \n",
            " 13  SleepTime         319795 non-null  float64\n",
            " 14  Asthma            319795 non-null  int64  \n",
            " 15  KidneyDisease     319795 non-null  int64  \n",
            " 16  SkinCancer        319795 non-null  int64  \n",
            "dtypes: float64(4), int64(13)\n",
            "memory usage: 41.5 MB\n"
          ]
        }
      ]
    },
    {
      "cell_type": "code",
      "source": [
        "from imblearn.over_sampling import SMOTE\n",
        "from sklearn.model_selection import train_test_split\n",
        "\n",
        "X = df.drop(columns='HeartDisease')\n",
        "y = df['HeartDisease']\n",
        "\n",
        "smote = SMOTE(random_state=42)\n",
        "X_bal, y_bal = smote.fit_resample(X, y)\n",
        "\n",
        "df_bal = X_bal.copy()\n",
        "df_bal['HeartDisease'] = y_bal"
      ],
      "metadata": {
        "id": "G4AtsBO02wxH"
      },
      "execution_count": null,
      "outputs": []
    },
    {
      "cell_type": "code",
      "source": [
        "cols_jitter = ['BMI', 'PhysicalHealth', 'MentalHealth', 'SleepTime']\n",
        "\n",
        "reps = int(1_000_000 / len(df_bal)) + 1\n",
        "\n",
        "df_expanded = pd.concat([\n",
        "    df_bal.assign(**{\n",
        "        col: df_bal[col] + np.random.normal(0, 0.5, size=len(df_bal))\n",
        "        for col in cols_jitter\n",
        "    })\n",
        "    for _ in range(reps)\n",
        "], ignore_index=True)\n",
        "\n",
        "df_1M = df_expanded.sample(n=1_000_000, random_state=42).reset_index(drop=True)"
      ],
      "metadata": {
        "id": "zubiBTLm7OSR"
      },
      "execution_count": null,
      "outputs": []
    },
    {
      "cell_type": "code",
      "source": [
        "df_1M.to_csv('heart_1M.csv', index=False)"
      ],
      "metadata": {
        "id": "wL7iVns97huH"
      },
      "execution_count": null,
      "outputs": []
    }
  ]
}